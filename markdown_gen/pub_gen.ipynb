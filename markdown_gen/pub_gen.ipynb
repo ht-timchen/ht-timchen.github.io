{
 "cells": [
  {
   "cell_type": "markdown",
   "metadata": {},
   "source": [
    "## Note\n",
    "- Table style can be updated in `assets/css/beautifuljekyll.css`"
   ]
  },
  {
   "cell_type": "markdown",
   "metadata": {},
   "source": [
    "# Generator "
   ]
  },
  {
   "cell_type": "code",
   "execution_count": 1,
   "metadata": {},
   "outputs": [
    {
     "name": "stdout",
     "output_type": "stream",
     "text": [
      "done\n"
     ]
    }
   ],
   "source": [
    "import pandas as pd\n",
    "import re\n",
    "\n",
    "# read csv file\n",
    "# pubs = pd.read_csv(\"publications.csv\", encoding = \"ISO-8859-1\")\n",
    "pubs = pd.read_excel(\"publications.xlsx\")\n",
    "# pubs.info()\n",
    "\n",
    "# generate md file\n",
    "import os\n",
    "\n",
    "md = \"---\\n\"\n",
    "md += \"layout: page\\n\"\n",
    "md += \"title: \\\"Publications\\\"\\n\"\n",
    "md += \"---\\n\"\n",
    "\n",
    "def process_authors(authors):\n",
    "#     author_list = [re.sub(r'[^\\x00-\\x7F]+',' ', x).strip(' ') for x in authors.split(',')] # strip and strip    \n",
    "    author_list = [x.strip(' ') for x in authors.split(',')] # strip and strip    \n",
    "    s = ''\n",
    "    for i in range(len(author_list)):\n",
    "        author = author_list[i].replace('Tim Chen', '**Tim Chen**')        \n",
    "#         if(author == 'Tim Chen'):\n",
    "#             author = '**'+author+'**'\n",
    "        s += author            \n",
    "        \n",
    "        if(i != len(author_list) - 1):\n",
    "            s += ', '        \n",
    "        else:\n",
    "            s += '<br>'\n",
    "    return s\n",
    "\n",
    "# generate html\n",
    "md += '''\n",
    "<table>\n",
    "<colgroup>\n",
    "<col width=\"30%\" />\n",
    "<col width=\"70%\" />\n",
    "</colgroup>\n",
    "<tbody>\n",
    "'''\n",
    "\n",
    "for idx, row in pubs.iterrows():\n",
    "    md += '<tr>\\n'\n",
    "    md += f'<td><img src=\"/assets/img/{row[\"IMG\"]}\" width=\"250\"></td>'\n",
    "    md += f'<td markdown=\"span\">'\n",
    "    md += f\"**{row['TITLE']}**<br><br>\"\n",
    "    md += process_authors(row['AUTHORS'])\n",
    "    md += f\"*{row['VENUE']}* {row['YEAR']}<br>\"\n",
    "    paper_name = row['PAPER_NAME']\n",
    "    if pd.notna(paper_name):\n",
    "#         md += f\"\\[[paper](/assets/publications/{row['PAPER_NAME']})\\]\"\n",
    "        md += f'<a href=\"/assets/publications/{row[\"PAPER_NAME\"]}\" target=\"_blank\">[paper]</a>'\n",
    "    else:\n",
    "        md += f\"[paper]\"\n",
    "    vid_name = row['YOUTUBE']\n",
    "    md += '  '\n",
    "    if pd.notna(vid_name):\n",
    "#         md += f\"\\[[youtube]({vid_name})\\]\"\n",
    "        md += f'<a href=\"{vid_name}\" target=\"_blank\">[youtube]</a>'\n",
    "    else:\n",
    "        md += \" \"\n",
    "\n",
    "    md += '</td>\\n'\n",
    "    md += '</tr>\\n'\n",
    "md+= '''\n",
    "</tbody>\n",
    "</table>\n",
    "'''\n",
    "\n",
    "with open(\"../pubs.md\", 'w', encoding='utf8') as f:\n",
    "# with open(\"./test.md\", 'w', encoding='utf8') as f:\n",
    "    f.write(md)\n",
    "print('done')\n",
    "\n",
    "# pure markdown version below, cannot control image width...\n",
    "# md += '''\n",
    "# |                  |                    |\n",
    "# |----              |----                |\n",
    "# '''\n",
    "# for idx, row in pubs.iterrows():\n",
    "#     md += '|'\n",
    "# #     /assets/img/profile.jpg\n",
    "# #     md += f\"![alt text](../_publications/{row['IMG']})\"\n",
    "#     md += f'<img src=\"/assets/img/{row[\"IMG\"]}\" width=\"300\">'\n",
    "#     md += '|'\n",
    "#     md += f\"**{row['TITLE']}**<br><br>\"\n",
    "#     md += process_authors(row['AUTHORS'])\n",
    "#     md += f\"*{row['VENUE']}* {row['YEAR']}<br>\"\n",
    "#     md += '|\\n'\n",
    "# md += '|======================|    |\\n'\n"
   ]
  },
  {
   "cell_type": "code",
   "execution_count": 21,
   "metadata": {},
   "outputs": [
    {
     "name": "stdout",
     "output_type": "stream",
     "text": [
      " bcd \n",
      " bcd \n",
      "bcd\n"
     ]
    }
   ],
   "source": [
    "a = \" bcd \"\n",
    "re.sub(r'[^\\x00-\\x7F]+',' ', a)\n",
    "print(a)\n",
    "print (a)\n",
    "a = a.strip()\n",
    "print(a)"
   ]
  },
  {
   "cell_type": "code",
   "execution_count": 16,
   "metadata": {},
   "outputs": [
    {
     "ename": "SyntaxError",
     "evalue": "invalid syntax (<ipython-input-16-5f4360a3af1e>, line 3)",
     "output_type": "error",
     "traceback": [
      "\u001b[0;36m  File \u001b[0;32m\"<ipython-input-16-5f4360a3af1e>\"\u001b[0;36m, line \u001b[0;32m3\u001b[0m\n\u001b[0;31m    c.replace(/[^\\x00-\\x7F]/g,\"\");\u001b[0m\n\u001b[0m              ^\u001b[0m\n\u001b[0;31mSyntaxError\u001b[0m\u001b[0;31m:\u001b[0m invalid syntax\n"
     ]
    }
   ],
   "source": [
    "import regex\n",
    "c = ' Tim Chen'\n",
    "c.replace(/[^\\x00-\\x7F]/g,\"\");\n",
    "print(c)\n",
    "c = c.strip(' ')\n",
    "print(c)"
   ]
  },
  {
   "cell_type": "code",
   "execution_count": null,
   "metadata": {},
   "outputs": [],
   "source": []
  }
 ],
 "metadata": {
  "kernelspec": {
   "display_name": "Python 3 (ipykernel)",
   "language": "python",
   "name": "python3"
  },
  "language_info": {
   "codemirror_mode": {
    "name": "ipython",
    "version": 3
   },
   "file_extension": ".py",
   "mimetype": "text/x-python",
   "name": "python",
   "nbconvert_exporter": "python",
   "pygments_lexer": "ipython3",
   "version": "3.10.9"
  },
  "metadata": {
   "interpreter": {
    "hash": "4a0aca6944bc971762fa360c1c51772984b0bc8f06cf43b1054b8cccdc03c824"
   }
  }
 },
 "nbformat": 4,
 "nbformat_minor": 4
}
