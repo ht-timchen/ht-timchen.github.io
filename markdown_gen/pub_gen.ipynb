{
 "cells": [
  {
   "cell_type": "markdown",
   "metadata": {},
   "source": [
    "## Note\n",
    "- Table style can be updated in `assets/css/beautifuljekyll.css`"
   ]
  },
  {
   "cell_type": "markdown",
   "metadata": {},
   "source": [
    "# Generator "
   ]
  },
  {
   "cell_type": "code",
   "execution_count": 9,
   "metadata": {},
   "outputs": [
    {
     "name": "stdout",
     "output_type": "stream",
     "text": [
      "done\n"
     ]
    }
   ],
   "source": [
    "import pandas as pd\n",
    "\n",
    "# read csv file\n",
    "# pubs = pd.read_csv(\"publications.csv\", encoding = \"ISO-8859-1\")\n",
    "pubs = pd.read_excel(\"publications.xlsx\")\n",
    "# pubs.info()\n",
    "\n",
    "# generate md file\n",
    "import os\n",
    "\n",
    "md = \"---\\n\"\n",
    "md += \"layout: page\\n\"\n",
    "md += \"title: \\\"Publications\\\"\\n\"\n",
    "md += \"---\\n\"\n",
    "\n",
    "def process_authors(authors):\n",
    "    author_list = [x.strip(' ') for x in authors.split(',')] # strip and strip    \n",
    "    s = ''\n",
    "    for i in range(len(author_list)):\n",
    "        author = author_list[i]\n",
    "        if(author == 'Tim Chen'):\n",
    "            author = '**'+author+'**'\n",
    "        s += author            \n",
    "        \n",
    "        if(i != len(author_list) - 1):\n",
    "            s += ', '        \n",
    "        else:\n",
    "            s += '<br>'\n",
    "    return s\n",
    "\n",
    "# generate html\n",
    "md += '''\n",
    "<table>\n",
    "<colgroup>\n",
    "<col width=\"30%\" />\n",
    "<col width=\"70%\" />\n",
    "</colgroup>\n",
    "<tbody>\n",
    "'''\n",
    "\n",
    "for idx, row in pubs.iterrows():\n",
    "    md += '<tr>\\n'\n",
    "    md += f'<td><img src=\"/assets/img/{row[\"IMG\"]}\" width=\"250\"></td>'\n",
    "    md += f'<td markdown=\"span\">'\n",
    "    md += f\"**{row['TITLE']}**<br><br>\"\n",
    "    md += process_authors(row['AUTHORS'])\n",
    "    md += f\"*{row['VENUE']}* {row['YEAR']}<br>\"\n",
    "    paper_name = row['PAPER_NAME']\n",
    "    if pd.notna(paper_name):\n",
    "        md += f\"\\[[paper](/assets/publications/{row['PAPER_NAME']})\\]\"\n",
    "    else:\n",
    "        md += f\"[paper]\"\n",
    "    vid_name = row['YOUTUBE']\n",
    "    if pd.notna(vid_name):\n",
    "        md += f\"\\[[youtube]({vid_name})\\]\"\n",
    "    else:\n",
    "        md += \" \"\n",
    "\n",
    "    md += '</td>\\n'\n",
    "    md += '</tr>\\n'\n",
    "md+= '''\n",
    "</tbody>\n",
    "</table>\n",
    "'''\n",
    "\n",
    "with open(\"../pubs.md\", 'w', encoding='utf8') as f:\n",
    "# with open(\"./test.md\", 'w', encoding='utf8') as f:\n",
    "    f.write(md)\n",
    "print('done')\n",
    "\n",
    "# pure markdown version below, cannot control image width...\n",
    "# md += '''\n",
    "# |                  |                    |\n",
    "# |----              |----                |\n",
    "# '''\n",
    "# for idx, row in pubs.iterrows():\n",
    "#     md += '|'\n",
    "# #     /assets/img/profile.jpg\n",
    "# #     md += f\"![alt text](../_publications/{row['IMG']})\"\n",
    "#     md += f'<img src=\"/assets/img/{row[\"IMG\"]}\" width=\"300\">'\n",
    "#     md += '|'\n",
    "#     md += f\"**{row['TITLE']}**<br><br>\"\n",
    "#     md += process_authors(row['AUTHORS'])\n",
    "#     md += f\"*{row['VENUE']}* {row['YEAR']}<br>\"\n",
    "#     md += '|\\n'\n",
    "# md += '|======================|    |\\n'\n"
   ]
  },
  {
   "cell_type": "code",
   "execution_count": null,
   "metadata": {},
   "outputs": [],
   "source": []
  }
 ],
 "metadata": {
  "kernelspec": {
   "display_name": "Python 3",
   "language": "python",
   "name": "python3"
  },
  "language_info": {
   "codemirror_mode": {
    "name": "ipython",
    "version": 3
   },
   "file_extension": ".py",
   "mimetype": "text/x-python",
   "name": "python",
   "nbconvert_exporter": "python",
   "pygments_lexer": "ipython3",
   "version": "3.7.7"
  }
 },
 "nbformat": 4,
 "nbformat_minor": 4
}
